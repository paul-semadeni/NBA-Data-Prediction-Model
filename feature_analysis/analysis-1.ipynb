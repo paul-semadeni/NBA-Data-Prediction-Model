{
 "cells": [
  {
   "cell_type": "code",
   "execution_count": 1,
   "metadata": {},
   "outputs": [],
   "source": [
    "import pandas as pd"
   ]
  },
  {
   "cell_type": "code",
   "execution_count": 10,
   "metadata": {},
   "outputs": [],
   "source": [
    "with open(\"../collect-data/src/files/nba_data.xlsx\", \"rb\") as file:\n",
    "    nba_stats_df = pd.read_excel(file, sheet_name=\"NBA Stats\")\n",
    "    mvp_df = pd.read_excel(file, sheet_name=\"MVP\")"
   ]
  },
  {
   "cell_type": "code",
   "execution_count": 29,
   "metadata": {},
   "outputs": [
    {
     "name": "stdout",
     "output_type": "stream",
     "text": [
      "MVP?\n",
      "0    13384\n",
      "1       27\n",
      "Name: count, dtype: int64\n"
     ]
    }
   ],
   "source": [
    "mvp_df[\"MVP?\"] = 1\n",
    "nba_stats_df[\"MVP?\"] = 0\n",
    "\n",
    "mvp_dict = mvp_df.to_dict(\"index\")\n",
    "nba_stats_dict = nba_stats_df.to_dict(\"index\")\n",
    "\n",
    "for k in mvp_dict:\n",
    "    id = mvp_dict[k][\"Unnamed: 0\"]\n",
    "    nba_stats_dict[id][\"MVP?\"] = 1\n",
    "\n",
    "nba_stats_df = pd.DataFrame.from_dict(nba_stats_dict, orient=\"index\")\n",
    "print(nba_stats_df[\"MVP?\"].value_counts())\n",
    "\n"
   ]
  }
 ],
 "metadata": {
  "kernelspec": {
   "display_name": "Python 3",
   "language": "python",
   "name": "python3"
  },
  "language_info": {
   "codemirror_mode": {
    "name": "ipython",
    "version": 3
   },
   "file_extension": ".py",
   "mimetype": "text/x-python",
   "name": "python",
   "nbconvert_exporter": "python",
   "pygments_lexer": "ipython3",
   "version": "3.8.1"
  }
 },
 "nbformat": 4,
 "nbformat_minor": 2
}
