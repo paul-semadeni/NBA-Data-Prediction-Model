{
 "cells": [
  {
   "cell_type": "code",
   "execution_count": 17,
   "metadata": {},
   "outputs": [],
   "source": [
    "import pandas as pd\n",
    "import matplotlib.pyplot as plt\n",
    "import matplotlib.cm\n",
    "import numpy as np\n",
    "from numpy import linalg, mean, dot\n",
    "from sklearn import tree\n",
    "from sklearn.preprocessing import MinMaxScaler\n",
    "from sklearn.decomposition import PCA\n",
    "from sklearn.metrics import accuracy_score, classification_report, confusion_matrix\n",
    "from sklearn.model_selection import train_test_split\n"
   ]
  },
  {
   "cell_type": "code",
   "execution_count": 18,
   "metadata": {},
   "outputs": [],
   "source": [
    "with open(\"../collect-data/src/files/nba_data.xlsx\", \"rb\") as file:\n",
    "    nba_stats_df = pd.read_excel(file, sheet_name=\"NBA Stats\")\n",
    "    mvp_df = pd.read_excel(file, sheet_name=\"MVP\")"
   ]
  },
  {
   "cell_type": "code",
   "execution_count": 19,
   "metadata": {},
   "outputs": [],
   "source": [
    "mvp_df[\"MVP?\"] = 1\n",
    "nba_stats_df[\"MVP?\"] = 0"
   ]
  },
  {
   "cell_type": "code",
   "execution_count": 23,
   "metadata": {},
   "outputs": [
    {
     "name": "stdout",
     "output_type": "stream",
     "text": [
      "MVP?\n",
      "0    1020\n",
      "1      27\n",
      "Name: count, dtype: int64\n"
     ]
    }
   ],
   "source": [
    "mvp_dict = mvp_df.to_dict(\"index\")\n",
    "nba_stats_dict = nba_stats_df.to_dict(\"index\")\n",
    "mvp_rank_dict = dict()\n",
    "\n",
    "for k in mvp_dict:\n",
    "    f_name = mvp_dict[k][\"FIRST NAME\"]\n",
    "    l_name = mvp_dict[k][\"LAST NAME\"]\n",
    "    team = mvp_dict[k][\"TEAM\"]\n",
    "    season = mvp_dict[k][\"SEASON\"]\n",
    "    # Filter down dataset\n",
    "    for i in list(nba_stats_dict):\n",
    "        if nba_stats_dict[i][\"FIRST NAME\"] == f_name and nba_stats_dict[i][\"LAST NAME\"] == l_name and nba_stats_dict[i][\"TEAM\"] == team and nba_stats_dict[i][\"SEASON\"] == season:\n",
    "            nba_stats_dict[i][\"MVP?\"] = 1\n",
    "            mvp_rank_dict[nba_stats_dict[i][\"SEASON\"]] = nba_stats_dict[i][\"RANK\"]\n",
    "\n",
    "for season in mvp_rank_dict:\n",
    "    rank = mvp_rank_dict[season]\n",
    "    if rank > 15:\n",
    "        max_rank = rank\n",
    "    else:\n",
    "        max_rank = 15\n",
    "    for j in list(nba_stats_dict):\n",
    "        if nba_stats_dict[j][\"SEASON\"] == season and nba_stats_dict[j][\"RANK\"] > max_rank:\n",
    "            nba_stats_dict.pop(j)\n",
    "\n",
    "nba_stats_df = pd.DataFrame.from_dict(nba_stats_dict, orient=\"index\")\n",
    "print(nba_stats_df[\"MVP?\"].value_counts())\n"
   ]
  },
  {
   "cell_type": "code",
   "execution_count": 21,
   "metadata": {},
   "outputs": [
    {
     "ename": "NameError",
     "evalue": "name 'hello' is not defined",
     "output_type": "error",
     "traceback": [
      "\u001b[0;31m---------------------------------------------------------------------------\u001b[0m",
      "\u001b[0;31mNameError\u001b[0m                                 Traceback (most recent call last)",
      "Cell \u001b[0;32mIn[21], line 1\u001b[0m\n\u001b[0;32m----> 1\u001b[0m \u001b[43mhello\u001b[49m\n\u001b[1;32m      2\u001b[0m \u001b[38;5;28mprint\u001b[39m(nba_stats_df[nba_stats_df[\u001b[38;5;124m\"\u001b[39m\u001b[38;5;124mMVP?\u001b[39m\u001b[38;5;124m\"\u001b[39m] \u001b[38;5;241m==\u001b[39m \u001b[38;5;124m\"\u001b[39m\u001b[38;5;124mmvp\u001b[39m\u001b[38;5;124m\"\u001b[39m])\n",
      "\u001b[0;31mNameError\u001b[0m: name 'hello' is not defined"
     ]
    }
   ],
   "source": [
    "hello\n",
    "print(nba_stats_df[nba_stats_df[\"MVP?\"] == \"mvp\"])"
   ]
  },
  {
   "cell_type": "code",
   "execution_count": null,
   "metadata": {},
   "outputs": [],
   "source": [
    "model_df = nba_stats_df[['FIRST NAME', 'LAST NAME', 'SUFFIX', 'TEAM', 'AGE', 'SEASON', 'MVP?']]"
   ]
  },
  {
   "cell_type": "code",
   "execution_count": null,
   "metadata": {},
   "outputs": [],
   "source": [
    "nba_stats_df.head()"
   ]
  },
  {
   "cell_type": "code",
   "execution_count": null,
   "metadata": {},
   "outputs": [],
   "source": [
    "nba_stats_df = nba_stats_df.astype({\"RANK\": \"object\"})\n",
    "nba_stats_df.dtypes"
   ]
  },
  {
   "cell_type": "code",
   "execution_count": null,
   "metadata": {},
   "outputs": [],
   "source": [
    "nba_stats_df[\"+/-\"] = nba_stats_df[\"+/-\"].apply(lambda x: int(x) if len(x) < 5 else 0)"
   ]
  },
  {
   "cell_type": "code",
   "execution_count": null,
   "metadata": {},
   "outputs": [],
   "source": [
    "# Bin the rankings together\n",
    "nba_stats_df[\"RANK\"] = pd.cut(nba_stats_df[\"RANK\"], 15)\n",
    "nba_stats_df[\"AGE\"] = pd.cut(nba_stats_df[\"AGE\"], 5)\n",
    "nba_stats_df[\"+/-\"] = pd.cut(nba_stats_df[\"+/-\"], 10)\n",
    "print(nba_stats_df)"
   ]
  },
  {
   "cell_type": "code",
   "execution_count": null,
   "metadata": {},
   "outputs": [],
   "source": [
    "# rank_enc = pd.get_dummies(nba_stats_df[\"RANK\"], dtype=float)\n",
    "# nba_stats_df = pd.concat([nba_stats_df, rank_enc], axis=1)\n",
    "\n",
    "# age_enc = pd.get_dummies(nba_stats_df[\"AGE\"], dtype=float)\n",
    "# nba_stats_df = pd.concat([nba_stats_df, age_enc], axis=1)\n",
    "\n",
    "# plus_minus_enc = pd.get_dummies(nba_stats_df[\"+/-\"], dtype=float)\n",
    "# nba_stats_df = pd.concat([nba_stats_df, plus_minus_enc], axis=1)\n",
    "\n",
    "# season_enc = pd.get_dummies(nba_stats_df[\"SEASON\"], dtype=float)\n",
    "# nba_stats_df = pd.concat([nba_stats_df, season_enc], axis=1)\n",
    "\n",
    "# team_enc = pd.get_dummies(nba_stats_df[\"TEAM\"], dtype=float)\n",
    "# nba_stats_df = pd.concat([nba_stats_df, team_enc], axis=1)\n",
    "\n",
    "print(nba_stats_df)\n"
   ]
  },
  {
   "cell_type": "code",
   "execution_count": null,
   "metadata": {},
   "outputs": [],
   "source": [
    "current_season_df = nba_stats_df[nba_stats_df[\"SEASON\"] == \"2023-24\"]\n",
    "nba_stats_df = nba_stats_df[nba_stats_df[\"SEASON\"] != \"2023-24\"]\n",
    "print(current_season_df.shape)\n",
    "print(nba_stats_df.shape)"
   ]
  },
  {
   "cell_type": "code",
   "execution_count": null,
   "metadata": {},
   "outputs": [],
   "source": [
    "# Change season to int\n",
    "seasons_list = nba_stats_df[\"SEASON\"].dropna().unique()\n",
    "season_dict = { None: 1 }\n",
    "for i in range(len(seasons_list)):\n",
    "    season = seasons_list[i]\n",
    "    season_dict[season] = i + 1\n",
    "\n",
    "nba_stats_df = nba_stats_df.replace({ \"SEASON\": season_dict })"
   ]
  },
  {
   "cell_type": "code",
   "execution_count": null,
   "metadata": {},
   "outputs": [],
   "source": [
    "# nba_stats_df = nba_stats_df[['AGE', 'GP', 'W', 'L', 'MIN', 'PTS', 'FGM', 'FGA', 'FG%', '3PM', '3PA',\n",
    "#        '3P%', 'FTM', 'FTA', 'FT%', 'OREB', 'DREB', 'REB', 'AST', 'TOV', 'STL',\n",
    "#        'BLK', 'PF', 'FP', 'DD2', 'TD3', 'SEASON', 'MVP?']]\n",
    "nba_stats_df = nba_stats_df.drop(columns=['RANK', 'MIN', 'PTS', 'FGM', 'FGA', 'AGE', 'FIRST NAME', 'LAST NAME', 'OREB', 'DREB',  'REB', 'SUFFIX', 'FP', 'TEAM', '+/-'], axis=1)\n",
    "# nba_stats_df = nba_stats_df.drop(columns=['GP',   'W',   'L', 'MIN', 'PTS', 'FGM', 'FGA', 'FG%', '3PM', '3PA', '3P%',  'FTM',  'FTA',  'FT%', 'OREB', 'DREB',  'REB',  'AST',  'TOV', 'STL', 'BLK', 'PF', 'FP','DD2', 'TD3'], axis=1)\n",
    "nba_stats_df.corr()"
   ]
  },
  {
   "cell_type": "code",
   "execution_count": null,
   "metadata": {},
   "outputs": [],
   "source": [
    "plt.matshow(nba_stats_df.corr())\n",
    "cb = plt.colorbar()\n",
    "cb.ax.tick_params(labelsize=10)\n",
    "plt.show()"
   ]
  },
  {
   "cell_type": "code",
   "execution_count": null,
   "metadata": {},
   "outputs": [],
   "source": [
    "len(nba_stats_df)"
   ]
  },
  {
   "cell_type": "code",
   "execution_count": null,
   "metadata": {},
   "outputs": [],
   "source": [
    "nba_stats_df.var()"
   ]
  },
  {
   "cell_type": "code",
   "execution_count": null,
   "metadata": {},
   "outputs": [],
   "source": [
    "nba_stats_df.cov()"
   ]
  },
  {
   "cell_type": "code",
   "execution_count": null,
   "metadata": {},
   "outputs": [],
   "source": [
    "def generate_pc(columns, variance_pct):\n",
    "    scaler = MinMaxScaler()\n",
    "    data_rescaled = scaler.fit_transform(columns.to_numpy())\n",
    "\n",
    "    pca = PCA().fit(data_rescaled)\n",
    "    plt.rcParams[\"figure.figsize\"] = (35,10)\n",
    "\n",
    "    fig, ax = plt.subplots()\n",
    "    xi = np.arange(1, 20, step=1)\n",
    "    y = np.cumsum(pca.explained_variance_ratio_)\n",
    "\n",
    "    plt.ylim(0.0,1.1)\n",
    "    plt.plot(xi, y, marker=\"o\", linestyle=\"--\", color=\"b\")\n",
    "\n",
    "    plt.xlabel(\"Number of Components\")\n",
    "    plt.xticks(np.arange(0, 19, step=1))\n",
    "    plt.ylabel(\"Cumulative variance (%)\")\n",
    "    plt.title(\"The number of components needed to explain variance\")\n",
    "\n",
    "    plt.axhline(y=variance_pct, color=\"r\", linestyle=\"-\")\n",
    "    plt.text(0.5, 0.85, f\"{variance_pct * 100}% cut-off threshold\", color=\"red\", fontsize=16)\n",
    "\n",
    "    ax.grid(axis=\"x\")\n",
    "    plt.show()\n",
    "    return pca\n",
    "pca = generate_pc(nba_stats_df, 0.95)\n",
    "\n",
    "pca.fit(nba_stats_df.to_numpy())\n",
    "pca.transform(nba_stats_df.to_numpy())"
   ]
  },
  {
   "cell_type": "code",
   "execution_count": null,
   "metadata": {},
   "outputs": [],
   "source": [
    "# projected.plot(kind=\"scatter\", x=\"pc1\", y=\"pc2\")\n",
    "nba_stats_df.columns"
   ]
  },
  {
   "cell_type": "code",
   "execution_count": null,
   "metadata": {},
   "outputs": [],
   "source": [
    "# Decision Tree\n",
    "Y = nba_stats_df[\"MVP?\"]\n",
    "X = nba_stats_df.drop(\"MVP?\", axis=1)\n",
    "X.columns = X.columns.astype(str)\n",
    "max_depths = [2,3,4,5,6,7,8,9,10]\n",
    "X_train, X_test, Y_train, Y_test = train_test_split(X, Y, test_size=0.8, random_state=1)\n",
    "for depth in max_depths:\n",
    "    clf = tree.DecisionTreeClassifier(max_depth=depth)\n",
    "    clf = clf.fit(X_train, Y_train)\n",
    "    Y_predtest = clf.predict(X_test)\n",
    "    Y_predtrain = clf.predict(X_train)\n",
    "    print(\"depth:\", depth, \"test accuracy:\", accuracy_score(Y_test, Y_predtest), \"train accuracy:\", accuracy_score(Y_train, Y_predtrain))\n",
    "    print(pd.crosstab(Y_test, Y_predtest, rownames = ['Actual'], colnames =['Predicted'], margins = True))"
   ]
  },
  {
   "cell_type": "code",
   "execution_count": null,
   "metadata": {},
   "outputs": [],
   "source": [
    "print(classification_report(Y_test, Y_predtest, zero_division=0))"
   ]
  },
  {
   "cell_type": "code",
   "execution_count": null,
   "metadata": {},
   "outputs": [],
   "source": [
    "pd.crosstab(Y_test, Y_predtest, rownames = ['Actual'], colnames =['Predicted'], margins = True)"
   ]
  },
  {
   "cell_type": "code",
   "execution_count": null,
   "metadata": {},
   "outputs": [],
   "source": [
    "seasons = nba_stats_df[\"SEASON\"].unique()\n",
    "\n",
    "for season in seasons:\n",
    "    print(seasons_list[season - 1])\n",
    "    season_stats_df = nba_stats_df[nba_stats_df[\"SEASON\"] == season]\n",
    "    Y = season_stats_df[\"MVP?\"]\n",
    "    X = season_stats_df.drop(\"MVP?\", axis=1)\n",
    "    X.columns = X.columns.astype(str)\n",
    "    X_train, X_test, Y_train, Y_test = train_test_split(X, Y, test_size=0.9, random_state=8)\n",
    "    clf = tree.DecisionTreeClassifier(max_depth=2)\n",
    "    clf = clf.fit(X_train, Y_train)\n",
    "    Y_predtest = clf.predict(X_test)\n",
    "    Y_predtrain = clf.predict(X_train)\n",
    "    print(\"depth:\", depth, \"test accuracy:\", accuracy_score(Y_test, Y_predtest), \"train accuracy:\", accuracy_score(Y_train, Y_predtrain))\n",
    "    print(pd.crosstab(Y_test, Y_predtest, rownames = ['Actual'], colnames =['Predicted'], margins = True))\n",
    "    print(\"\\n\")"
   ]
  },
  {
   "cell_type": "code",
   "execution_count": null,
   "metadata": {},
   "outputs": [],
   "source": [
    "# Results after applying PCA\n",
    "pca.fit(X_train)\n",
    "explained_variance = pca.explained_variance_ratio_\n",
    "cum_explained_ratio = np.cumsum(explained_variance)\n",
    "optimal_num_comp = np.where(cum_explained_ratio >= 0.95)[0][0] + 1\n",
    "\n",
    "pca = PCA(n_components=optimal_num_comp, svd_solver=\"full\")\n",
    "X_train_pca = pca.fit_transform(X_train)\n",
    "X_test_pca = pca.transform(X_test)\n",
    "\n",
    "pca_tree = tree.DecisionTreeClassifier(random_state=42)\n",
    "pca_tree = pca_tree.fit(X_train_pca, Y_train)\n",
    "\n",
    "Y_pred = pca_tree.predict(X_test_pca)\n",
    "print(accuracy_score(Y_test, Y_pred))"
   ]
  },
  {
   "cell_type": "code",
   "execution_count": null,
   "metadata": {},
   "outputs": [],
   "source": [
    "print(classification_report(Y_test, Y_pred, zero_division=0))"
   ]
  },
  {
   "cell_type": "code",
   "execution_count": null,
   "metadata": {},
   "outputs": [],
   "source": [
    "pd.crosstab(Y_test, Y_pred, rownames = ['Actual'], colnames =['Predicted'], margins = True)"
   ]
  }
 ],
 "metadata": {
  "kernelspec": {
   "display_name": "Python 3",
   "language": "python",
   "name": "python3"
  },
  "language_info": {
   "codemirror_mode": {
    "name": "ipython",
    "version": 3
   },
   "file_extension": ".py",
   "mimetype": "text/x-python",
   "name": "python",
   "nbconvert_exporter": "python",
   "pygments_lexer": "ipython3",
   "version": "3.8.1"
  }
 },
 "nbformat": 4,
 "nbformat_minor": 2
}
