{
 "cells": [
  {
   "cell_type": "code",
   "execution_count": 87,
   "metadata": {},
   "outputs": [],
   "source": [
    "import numpy as np\n",
    "import pandas as pd\n",
    "import os\n",
    "import xgboost as xgb\n",
    "from sklearn.decomposition import PCA\n",
    "from sklearn.preprocessing import StandardScaler\n",
    "from sklearn.model_selection import KFold\n",
    "from sklearn.metrics import log_loss\n",
    "from scipy.interpolate import UnivariateSpline\n",
    "import statsmodels.api as sm\n",
    "import matplotlib.pyplot as plt\n",
    "import collections\n",
    "\n",
    "pd.set_option(\"display.max_column\", 999)"
   ]
  },
  {
   "cell_type": "code",
   "execution_count": 88,
   "metadata": {},
   "outputs": [
    {
     "data": {
      "text/html": [
       "<div>\n",
       "<style scoped>\n",
       "    .dataframe tbody tr th:only-of-type {\n",
       "        vertical-align: middle;\n",
       "    }\n",
       "\n",
       "    .dataframe tbody tr th {\n",
       "        vertical-align: top;\n",
       "    }\n",
       "\n",
       "    .dataframe thead th {\n",
       "        text-align: right;\n",
       "    }\n",
       "</style>\n",
       "<table border=\"1\" class=\"dataframe\">\n",
       "  <thead>\n",
       "    <tr style=\"text-align: right;\">\n",
       "      <th></th>\n",
       "      <th>Unnamed: 0</th>\n",
       "      <th>RANK</th>\n",
       "      <th>FIRST NAME</th>\n",
       "      <th>LAST NAME</th>\n",
       "      <th>SUFFIX</th>\n",
       "      <th>TEAM</th>\n",
       "      <th>AGE</th>\n",
       "      <th>GP</th>\n",
       "      <th>W</th>\n",
       "      <th>L</th>\n",
       "      <th>MIN</th>\n",
       "      <th>PTS</th>\n",
       "      <th>FGM</th>\n",
       "      <th>FGA</th>\n",
       "      <th>FG%</th>\n",
       "      <th>3PM</th>\n",
       "      <th>3PA</th>\n",
       "      <th>3P%</th>\n",
       "      <th>FTM</th>\n",
       "      <th>FTA</th>\n",
       "      <th>FT%</th>\n",
       "      <th>OREB</th>\n",
       "      <th>DREB</th>\n",
       "      <th>REB</th>\n",
       "      <th>AST</th>\n",
       "      <th>TOV</th>\n",
       "      <th>STL</th>\n",
       "      <th>BLK</th>\n",
       "      <th>PF</th>\n",
       "      <th>FP</th>\n",
       "      <th>DD2</th>\n",
       "      <th>TD3</th>\n",
       "      <th>+/-</th>\n",
       "      <th>SEASON</th>\n",
       "    </tr>\n",
       "  </thead>\n",
       "  <tbody>\n",
       "    <tr>\n",
       "      <th>0</th>\n",
       "      <td>12971</td>\n",
       "      <td>2</td>\n",
       "      <td>Karl</td>\n",
       "      <td>Malone</td>\n",
       "      <td>NaN</td>\n",
       "      <td>UTA</td>\n",
       "      <td>33</td>\n",
       "      <td>82</td>\n",
       "      <td>64</td>\n",
       "      <td>18</td>\n",
       "      <td>2997.7</td>\n",
       "      <td>2249</td>\n",
       "      <td>864</td>\n",
       "      <td>1571</td>\n",
       "      <td>55.0</td>\n",
       "      <td>0</td>\n",
       "      <td>13</td>\n",
       "      <td>0.0</td>\n",
       "      <td>521</td>\n",
       "      <td>690</td>\n",
       "      <td>75.5</td>\n",
       "      <td>193</td>\n",
       "      <td>616</td>\n",
       "      <td>809</td>\n",
       "      <td>368</td>\n",
       "      <td>233</td>\n",
       "      <td>113</td>\n",
       "      <td>48</td>\n",
       "      <td>216</td>\n",
       "      <td>4022</td>\n",
       "      <td>43</td>\n",
       "      <td>1</td>\n",
       "      <td>767</td>\n",
       "      <td>1996-97</td>\n",
       "    </tr>\n",
       "    <tr>\n",
       "      <th>1</th>\n",
       "      <td>12531</td>\n",
       "      <td>1</td>\n",
       "      <td>Michael</td>\n",
       "      <td>Jordan</td>\n",
       "      <td>NaN</td>\n",
       "      <td>CHI</td>\n",
       "      <td>35</td>\n",
       "      <td>82</td>\n",
       "      <td>62</td>\n",
       "      <td>20</td>\n",
       "      <td>3182.4</td>\n",
       "      <td>2357</td>\n",
       "      <td>881</td>\n",
       "      <td>1893</td>\n",
       "      <td>46.5</td>\n",
       "      <td>30</td>\n",
       "      <td>126</td>\n",
       "      <td>23.8</td>\n",
       "      <td>565</td>\n",
       "      <td>721</td>\n",
       "      <td>78.4</td>\n",
       "      <td>130</td>\n",
       "      <td>345</td>\n",
       "      <td>475</td>\n",
       "      <td>283</td>\n",
       "      <td>185</td>\n",
       "      <td>141</td>\n",
       "      <td>45</td>\n",
       "      <td>151</td>\n",
       "      <td>3725</td>\n",
       "      <td>5</td>\n",
       "      <td>0</td>\n",
       "      <td>598</td>\n",
       "      <td>1997-98</td>\n",
       "    </tr>\n",
       "    <tr>\n",
       "      <th>2</th>\n",
       "      <td>12093</td>\n",
       "      <td>3</td>\n",
       "      <td>Karl</td>\n",
       "      <td>Malone</td>\n",
       "      <td>NaN</td>\n",
       "      <td>UTA</td>\n",
       "      <td>35</td>\n",
       "      <td>49</td>\n",
       "      <td>36</td>\n",
       "      <td>13</td>\n",
       "      <td>1831.6</td>\n",
       "      <td>1164</td>\n",
       "      <td>393</td>\n",
       "      <td>797</td>\n",
       "      <td>49.3</td>\n",
       "      <td>0</td>\n",
       "      <td>1</td>\n",
       "      <td>0.0</td>\n",
       "      <td>378</td>\n",
       "      <td>480</td>\n",
       "      <td>78.8</td>\n",
       "      <td>107</td>\n",
       "      <td>356</td>\n",
       "      <td>463</td>\n",
       "      <td>201</td>\n",
       "      <td>162</td>\n",
       "      <td>62</td>\n",
       "      <td>28</td>\n",
       "      <td>134</td>\n",
       "      <td>2129</td>\n",
       "      <td>21</td>\n",
       "      <td>1</td>\n",
       "      <td>354</td>\n",
       "      <td>1998-99</td>\n",
       "    </tr>\n",
       "    <tr>\n",
       "      <th>3</th>\n",
       "      <td>11652</td>\n",
       "      <td>1</td>\n",
       "      <td>Shaquille</td>\n",
       "      <td>O'Neal</td>\n",
       "      <td>NaN</td>\n",
       "      <td>LAL</td>\n",
       "      <td>28</td>\n",
       "      <td>79</td>\n",
       "      <td>66</td>\n",
       "      <td>13</td>\n",
       "      <td>3165.2</td>\n",
       "      <td>2344</td>\n",
       "      <td>956</td>\n",
       "      <td>1665</td>\n",
       "      <td>57.4</td>\n",
       "      <td>0</td>\n",
       "      <td>1</td>\n",
       "      <td>0.0</td>\n",
       "      <td>432</td>\n",
       "      <td>824</td>\n",
       "      <td>52.4</td>\n",
       "      <td>336</td>\n",
       "      <td>742</td>\n",
       "      <td>1078</td>\n",
       "      <td>299</td>\n",
       "      <td>223</td>\n",
       "      <td>36</td>\n",
       "      <td>239</td>\n",
       "      <td>255</td>\n",
       "      <td>4688</td>\n",
       "      <td>63</td>\n",
       "      <td>0</td>\n",
       "      <td>705</td>\n",
       "      <td>1999-00</td>\n",
       "    </tr>\n",
       "    <tr>\n",
       "      <th>4</th>\n",
       "      <td>11212</td>\n",
       "      <td>2</td>\n",
       "      <td>Allen</td>\n",
       "      <td>Iverson</td>\n",
       "      <td>NaN</td>\n",
       "      <td>PHI</td>\n",
       "      <td>26</td>\n",
       "      <td>71</td>\n",
       "      <td>50</td>\n",
       "      <td>21</td>\n",
       "      <td>2975.9</td>\n",
       "      <td>2207</td>\n",
       "      <td>762</td>\n",
       "      <td>1813</td>\n",
       "      <td>42.0</td>\n",
       "      <td>98</td>\n",
       "      <td>306</td>\n",
       "      <td>32.0</td>\n",
       "      <td>585</td>\n",
       "      <td>719</td>\n",
       "      <td>81.4</td>\n",
       "      <td>50</td>\n",
       "      <td>223</td>\n",
       "      <td>273</td>\n",
       "      <td>325</td>\n",
       "      <td>237</td>\n",
       "      <td>178</td>\n",
       "      <td>20</td>\n",
       "      <td>147</td>\n",
       "      <td>3379</td>\n",
       "      <td>4</td>\n",
       "      <td>0</td>\n",
       "      <td>371</td>\n",
       "      <td>2000-01</td>\n",
       "    </tr>\n",
       "  </tbody>\n",
       "</table>\n",
       "</div>"
      ],
      "text/plain": [
       "   Unnamed: 0  RANK FIRST NAME LAST NAME  SUFFIX TEAM  AGE  GP   W   L  \\\n",
       "0       12971     2       Karl    Malone     NaN  UTA   33  82  64  18   \n",
       "1       12531     1    Michael    Jordan     NaN  CHI   35  82  62  20   \n",
       "2       12093     3       Karl    Malone     NaN  UTA   35  49  36  13   \n",
       "3       11652     1  Shaquille    O'Neal     NaN  LAL   28  79  66  13   \n",
       "4       11212     2      Allen   Iverson     NaN  PHI   26  71  50  21   \n",
       "\n",
       "      MIN   PTS  FGM   FGA   FG%  3PM  3PA   3P%  FTM  FTA   FT%  OREB  DREB  \\\n",
       "0  2997.7  2249  864  1571  55.0    0   13   0.0  521  690  75.5   193   616   \n",
       "1  3182.4  2357  881  1893  46.5   30  126  23.8  565  721  78.4   130   345   \n",
       "2  1831.6  1164  393   797  49.3    0    1   0.0  378  480  78.8   107   356   \n",
       "3  3165.2  2344  956  1665  57.4    0    1   0.0  432  824  52.4   336   742   \n",
       "4  2975.9  2207  762  1813  42.0   98  306  32.0  585  719  81.4    50   223   \n",
       "\n",
       "    REB  AST  TOV  STL  BLK   PF    FP  DD2  TD3  +/-   SEASON  \n",
       "0   809  368  233  113   48  216  4022   43    1  767  1996-97  \n",
       "1   475  283  185  141   45  151  3725    5    0  598  1997-98  \n",
       "2   463  201  162   62   28  134  2129   21    1  354  1998-99  \n",
       "3  1078  299  223   36  239  255  4688   63    0  705  1999-00  \n",
       "4   273  325  237  178   20  147  3379    4    0  371  2000-01  "
      ]
     },
     "execution_count": 88,
     "metadata": {},
     "output_type": "execute_result"
    }
   ],
   "source": [
    "df_mvp = pd.read_excel('../collect-data/src/files/nba_data.xlsx', sheet_name='MVP')\n",
    "df_mvp.head()"
   ]
  },
  {
   "cell_type": "markdown",
   "metadata": {},
   "source": [
    "# Feature Engineering\n",
    "\n",
    "## Functions"
   ]
  },
  {
   "cell_type": "markdown",
   "metadata": {},
   "source": [
    "***PCA***"
   ]
  },
  {
   "cell_type": "code",
   "execution_count": 89,
   "metadata": {},
   "outputs": [],
   "source": [
    "def perform_pca(df, n_components, nominal_columns=[]):\n",
    "    # Separate nominal columns from numerical columns\n",
    "    numerical_columns = df.columns.difference(nominal_columns)\n",
    "    nominal_data = df[nominal_columns]\n",
    "    numerical_data = df[numerical_columns]\n",
    "    \n",
    "    # Standardize the numerical data\n",
    "    scaler = StandardScaler()\n",
    "    scaled_data = scaler.fit_transform(numerical_data)\n",
    "    \n",
    "    # Apply PCA to numerical data\n",
    "    pca = PCA(n_components=n_components)\n",
    "    principal_components = pca.fit_transform(scaled_data)\n",
    "\n",
    "    # Calculate cumulative explained variance ratio\n",
    "    cumulative_variance_ratio = np.cumsum(pca.explained_variance_ratio_)\n",
    "    \n",
    "    # Create a new DataFrame with the principal components\n",
    "    principal_df = pd.DataFrame(data=principal_components, columns=[f'PC{i+1}' for i in range(n_components)])\n",
    "    \n",
    "    # Concatenate nominal data with principal components DataFrame\n",
    "    if not nominal_data.empty:\n",
    "        principal_df = pd.concat([nominal_data.reset_index(drop=True), principal_df], axis=1)\n",
    "    \n",
    "    return principal_df, cumulative_variance_ratio"
   ]
  },
  {
   "cell_type": "markdown",
   "metadata": {},
   "source": [
    "***Entropy***"
   ]
  },
  {
   "cell_type": "code",
   "execution_count": 90,
   "metadata": {},
   "outputs": [],
   "source": [
    "def entropy(feature):\n",
    "    unique, counts = np.unique(feature, return_counts=True)\n",
    "    probabilities = counts / len(feature)\n",
    "    entropy = -np.sum(probabilities * np.log2(probabilities))\n",
    "    return entropy"
   ]
  },
  {
   "cell_type": "markdown",
   "metadata": {},
   "source": [
    "***Variance***"
   ]
  },
  {
   "cell_type": "code",
   "execution_count": 91,
   "metadata": {},
   "outputs": [],
   "source": [
    "def variance(feature):\n",
    "    mean = np.mean(feature)\n",
    "    variance = np.mean((feature - mean) ** 2)\n",
    "    return variance"
   ]
  },
  {
   "cell_type": "markdown",
   "metadata": {},
   "source": [
    "## Execution\n",
    "\n",
    "***Aggregation***"
   ]
  },
  {
   "cell_type": "code",
   "execution_count": 92,
   "metadata": {},
   "outputs": [],
   "source": [
    "# df_mvp['PPG'] = df_mvp['PTS'] / df_mvp['GP'] # Points Per Game\n",
    "# df_mvp['RPG'] = df_mvp['REB'] / df_mvp['GP'] # Rebounds Per Game\n",
    "# df_mvp['APG'] = df_mvp['AST'] / df_mvp['GP'] # Assists Per Game\n",
    "# df_mvp['SPG'] = df_mvp['STL'] / df_mvp['GP'] # Steals Per Game\n",
    "# df_mvp['BPG'] = df_mvp['BLK'] / df_mvp['GP'] # Blocks Per Game\n",
    "# df_mvp['PMPG'] = df_mvp['+/-'] / df_mvp['GP'] # Plus/Minus Per Game\n",
    "\n",
    "# aggregated_to_remove = ['PTS', 'REB', 'AST', 'STL', 'BLK', '+/-']\n",
    "# df_mvp = df_mvp.drop(columns=aggregated_to_remove)"
   ]
  },
  {
   "cell_type": "markdown",
   "metadata": {},
   "source": [
    "***Deletion***"
   ]
  },
  {
   "cell_type": "code",
   "execution_count": 93,
   "metadata": {},
   "outputs": [],
   "source": [
    "# features_to_remove = ['Unnamed: 0', 'SUFFIX', 'TEAM', 'AGE', 'MIN', 'FGM', 'FGA', 'FTM', 'FTA', 'OREB', 'DREB', 'TOV', 'PF', 'FP', 'SEASON']\n",
    "# df_mvp = df_mvp.drop(columns=features_to_remove)\n",
    "# df_mvp"
   ]
  },
  {
   "cell_type": "code",
   "execution_count": 94,
   "metadata": {},
   "outputs": [],
   "source": [
    "# nominal_features = ['FIRST NAME', 'LAST NAME']\n",
    "# pca, pca_var = perform_pca(df_mvp, 12, nominal_features)\n",
    "\n",
    "# pca_var"
   ]
  },
  {
   "cell_type": "code",
   "execution_count": 100,
   "metadata": {},
   "outputs": [
    {
     "data": {
      "text/plain": [
       "array([0.28970741, 0.51698311, 0.65119841, 0.75431803, 0.83398661,\n",
       "       0.86975238, 0.90150486, 0.92750972, 0.94765908, 0.95945998])"
      ]
     },
     "execution_count": 100,
     "metadata": {},
     "output_type": "execute_result"
    }
   ],
   "source": [
    "nominal_features = ['FIRST NAME', 'LAST NAME', 'SUFFIX', 'TEAM', 'SEASON']\n",
    "pca, pca_var = perform_pca(df_mvp, 10, nominal_features)\n",
    "\n",
    "pca_var"
   ]
  },
  {
   "cell_type": "code",
   "execution_count": 101,
   "metadata": {},
   "outputs": [
    {
     "data": {
      "image/png": "[encoded data removed]",
      "text/plain": [
       "<Figure size 640x480 with 1 Axes>"
      ]
     },
     "metadata": {},
     "output_type": "display_data"
    }
   ],
   "source": [
    "# Plot the cumulative explained variance ratio\n",
    "plt.plot(range(1, len(pca_var) + 1), pca_var, marker='o')\n",
    "plt.xlabel('Number of Components')\n",
    "plt.ylabel('Cumulative Explained Variance Ratio')\n",
    "plt.title('Explained Variance Ratio vs. Number of Components')\n",
    "plt.grid(True)\n",
    "plt.show()"
   ]
  },
  {
   "cell_type": "markdown",
   "metadata": {},
   "source": [
    "# Feature Extraction"
   ]
  }
 ],
 "metadata": {
  "kernelspec": {
   "display_name": "Python 3",
   "language": "python",
   "name": "python3"
  },
  "language_info": {
   "codemirror_mode": {
    "name": "ipython",
    "version": 3
   },
   "file_extension": ".py",
   "mimetype": "text/x-python",
   "name": "python",
   "nbconvert_exporter": "python",
   "pygments_lexer": "ipython3",
   "version": "3.12.1"
  }
 },
 "nbformat": 4,
 "nbformat_minor": 2
}
